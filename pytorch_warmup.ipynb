{
  "nbformat": 4,
  "nbformat_minor": 0,
  "metadata": {
    "colab": {
      "name": "pytorch_warmup.ipynb",
      "version": "0.3.2",
      "provenance": [],
      "collapsed_sections": [
        "8ZdzcTw-_wUL"
      ],
      "include_colab_link": true
    },
    "kernelspec": {
      "name": "python3",
      "display_name": "Python 3"
    },
    "accelerator": "GPU"
  },
  "cells": [
    {
      "cell_type": "markdown",
      "metadata": {
        "id": "view-in-github",
        "colab_type": "text"
      },
      "source": [
        "<a href=\"https://colab.research.google.com/github/arindas/jupyter_notebooks/blob/master/pytorch_warmup.ipynb\" target=\"_parent\"><img src=\"https://colab.research.google.com/assets/colab-badge.svg\" alt=\"Open In Colab\"/></a>"
      ]
    },
    {
      "metadata": {
        "id": "X2Boqzw84_2b",
        "colab_type": "text"
      },
      "cell_type": "markdown",
      "source": [
        "# Pytorch Installation:"
      ]
    },
    {
      "metadata": {
        "id": "lmTnB9NE23QK",
        "colab_type": "code",
        "colab": {
          "base_uri": "https://localhost:8080/",
          "height": 55
        },
        "outputId": "7182e16b-d16b-48e5-fb5d-ae46208096aa"
      },
      "cell_type": "code",
      "source": [
        "# http://pytorch.org/\n",
        "from os.path import exists\n",
        "from wheel.pep425tags import get_abbr_impl, get_impl_ver, get_abi_tag\n",
        "platform = '{}{}-{}'.format(get_abbr_impl(), get_impl_ver(), get_abi_tag())\n",
        "cuda_output = !ldconfig -p|grep cudart.so|sed -e 's/.*\\.\\([0-9]*\\)\\.\\([0-9]*\\)$/cu\\1\\2/'\n",
        "accelerator = cuda_output[0] if exists('/dev/nvidia0') else 'cpu'\n",
        "\n",
        "!pip install -q http://download.pytorch.org/whl/{accelerator}/torch-0.4.1-{platform}-linux_x86_64.whl torchvision\n",
        "import torch"
      ],
      "execution_count": 2,
      "outputs": [
        {
          "output_type": "stream",
          "text": [
            "tcmalloc: large alloc 1073750016 bytes == 0x57c52000 @  0x7f6a393ed2a4 0x591a07 0x5b5d56 0x502e9a 0x506859 0x502209 0x502f3d 0x506859 0x504c28 0x502540 0x502f3d 0x506859 0x504c28 0x502540 0x502f3d 0x506859 0x504c28 0x502540 0x502f3d 0x507641 0x502209 0x502f3d 0x506859 0x504c28 0x502540 0x502f3d 0x507641 0x504c28 0x502540 0x502f3d 0x507641\n"
          ],
          "name": "stdout"
        }
      ]
    },
    {
      "metadata": {
        "id": "8ZdzcTw-_wUL",
        "colab_type": "text"
      },
      "cell_type": "markdown",
      "source": [
        "# Getting started"
      ]
    },
    {
      "metadata": {
        "id": "O2XOyHlh4DU8",
        "colab_type": "text"
      },
      "cell_type": "markdown",
      "source": [
        "## Some code snippets demonstrating Pytorch tensors:"
      ]
    },
    {
      "metadata": {
        "id": "TB54JRpR4UPo",
        "colab_type": "code",
        "colab": {
          "base_uri": "https://localhost:8080/",
          "height": 71
        },
        "outputId": "c04444ba-5a35-4cef-e601-6afdb0ebade9"
      },
      "cell_type": "code",
      "source": [
        "dims = (3, 4)\n",
        "empty_tensor = torch.empty(*dims)\n",
        "print(empty_tensor)"
      ],
      "execution_count": 3,
      "outputs": [
        {
          "output_type": "stream",
          "text": [
            "tensor([[1.0035e-35, 0.0000e+00, 1.4013e-44, 0.0000e+00],\n",
            "        [       nan, 0.0000e+00, 3.0881e+29, 6.3828e+28],\n",
            "        [3.6386e-41, 0.0000e+00, 0.0000e+00, 0.0000e+00]])\n"
          ],
          "name": "stdout"
        }
      ]
    },
    {
      "metadata": {
        "id": "CMGo861k4qAK",
        "colab_type": "code",
        "colab": {
          "base_uri": "https://localhost:8080/",
          "height": 71
        },
        "outputId": "d5f324c9-b88e-41cf-9df6-23716778b98a"
      },
      "cell_type": "code",
      "source": [
        "rand_tensor = torch.rand(*dims)\n",
        "print(rand_tensor)"
      ],
      "execution_count": 5,
      "outputs": [
        {
          "output_type": "stream",
          "text": [
            "tensor([[0.1643, 0.5821, 0.2303, 0.2003],\n",
            "        [0.8647, 0.0646, 0.4198, 0.2664],\n",
            "        [0.3401, 0.4006, 0.4423, 0.7764]])\n"
          ],
          "name": "stdout"
        }
      ]
    },
    {
      "metadata": {
        "id": "ldvEzbhZ5KVY",
        "colab_type": "code",
        "colab": {
          "base_uri": "https://localhost:8080/",
          "height": 124
        },
        "outputId": "8400330e-4353-475d-dcb2-aa8cc09ef16a"
      },
      "cell_type": "code",
      "source": [
        "zero_tensor = torch.zeros(*dims)\n",
        "print(zero_tensor)\n",
        "\n",
        "unit_tensor = torch.ones(*dims)\n",
        "print(unit_tensor)"
      ],
      "execution_count": 7,
      "outputs": [
        {
          "output_type": "stream",
          "text": [
            "tensor([[0., 0., 0., 0.],\n",
            "        [0., 0., 0., 0.],\n",
            "        [0., 0., 0., 0.]])\n",
            "tensor([[1., 1., 1., 1.],\n",
            "        [1., 1., 1., 1.],\n",
            "        [1., 1., 1., 1.]])\n"
          ],
          "name": "stdout"
        }
      ]
    },
    {
      "metadata": {
        "id": "ncsoGDSQ5f61",
        "colab_type": "code",
        "colab": {
          "base_uri": "https://localhost:8080/",
          "height": 142
        },
        "outputId": "f515ec04-6157-4551-8ede-da1729a6c541"
      },
      "cell_type": "code",
      "source": [
        "data  = [[1, 0], [0, 1]]\n",
        "data_tensor = torch.tensor(data)\n",
        "print(data_tensor)\n",
        "\n",
        "new_tensor = data_tensor.new_ones(*dims, dtype=torch.double)\n",
        "print(new_tensor)\n",
        "\n",
        "rand_data_tensor = torch.randn_like(data_tensor, dtype=torch.float)\n",
        "print(rand_data_tensor)"
      ],
      "execution_count": 16,
      "outputs": [
        {
          "output_type": "stream",
          "text": [
            "tensor([[1, 0],\n",
            "        [0, 1]])\n",
            "tensor([[1., 1., 1., 1.],\n",
            "        [1., 1., 1., 1.],\n",
            "        [1., 1., 1., 1.]], dtype=torch.float64)\n",
            "tensor([[-0.8699,  0.3322],\n",
            "        [ 2.9572, -0.1629]])\n"
          ],
          "name": "stdout"
        }
      ]
    },
    {
      "metadata": {
        "id": "IlC4RPNU8tpM",
        "colab_type": "code",
        "colab": {
          "base_uri": "https://localhost:8080/",
          "height": 35
        },
        "outputId": "6c2f3e8b-0d9a-41ad-e333-516c79992ca4"
      },
      "cell_type": "code",
      "source": [
        "print(data_tensor.size())"
      ],
      "execution_count": 17,
      "outputs": [
        {
          "output_type": "stream",
          "text": [
            "torch.Size([2, 2])\n"
          ],
          "name": "stdout"
        }
      ]
    },
    {
      "metadata": {
        "id": "H48G_ZbY_m8s",
        "colab_type": "text"
      },
      "cell_type": "markdown",
      "source": [
        "## Pytorch tensor operations"
      ]
    },
    {
      "metadata": {
        "id": "44jqWv7aBTpB",
        "colab_type": "text"
      },
      "cell_type": "markdown",
      "source": [
        "### Addition"
      ]
    },
    {
      "metadata": {
        "id": "dPZOWTOu_4-2",
        "colab_type": "code",
        "colab": {
          "base_uri": "https://localhost:8080/",
          "height": 356
        },
        "outputId": "a7c4654c-3659-430b-cca3-32685845a07d"
      },
      "cell_type": "code",
      "source": [
        "x, y = torch.rand(*dims), torch.rand(*dims)\n",
        "print(\"x   = \", x)\n",
        "print(\"y   = \", y)\n",
        "print(\"x+y = \", x+y)\n",
        "\n",
        "print(\"x+y = \", torch.add(x, y))\n",
        "\n",
        "empty_tensor = torch.empty(*x.size())\n",
        "torch.add(x,y, out=empty_tensor)\n",
        "print(\"x+y = \", empty_tensor)\n",
        "\n",
        "# in place\n",
        "y.add_(x)\n",
        "print(\"\\ny += x; y = \", y)"
      ],
      "execution_count": 29,
      "outputs": [
        {
          "output_type": "stream",
          "text": [
            "x   =  tensor([[0.0558, 0.6048, 0.9555, 0.7209],\n",
            "        [0.5438, 0.8838, 0.5168, 0.8886],\n",
            "        [0.3104, 0.5543, 0.7937, 0.2773]])\n",
            "y   =  tensor([[0.8677, 0.2594, 0.1552, 0.3057],\n",
            "        [0.4958, 0.8829, 0.5790, 0.2942],\n",
            "        [0.4802, 0.2839, 0.8788, 0.9596]])\n",
            "x+y =  tensor([[0.9236, 0.8641, 1.1107, 1.0267],\n",
            "        [1.0396, 1.7667, 1.0958, 1.1828],\n",
            "        [0.7907, 0.8382, 1.6725, 1.2369]])\n",
            "x+y =  tensor([[0.9236, 0.8641, 1.1107, 1.0267],\n",
            "        [1.0396, 1.7667, 1.0958, 1.1828],\n",
            "        [0.7907, 0.8382, 1.6725, 1.2369]])\n",
            "x+y =  tensor([[0.9236, 0.8641, 1.1107, 1.0267],\n",
            "        [1.0396, 1.7667, 1.0958, 1.1828],\n",
            "        [0.7907, 0.8382, 1.6725, 1.2369]])\n",
            "\n",
            "y += x; y =  tensor([[0.9236, 0.8641, 1.1107, 1.0267],\n",
            "        [1.0396, 1.7667, 1.0958, 1.1828],\n",
            "        [0.7907, 0.8382, 1.6725, 1.2369]])\n"
          ],
          "name": "stdout"
        }
      ]
    },
    {
      "metadata": {
        "id": "BxATPAk5Cj7r",
        "colab_type": "text"
      },
      "cell_type": "markdown",
      "source": [
        "All operations that mutate a tensor are followed by a _ . For example:  `x.t_()`,  `x.copy_(y)` etc."
      ]
    },
    {
      "metadata": {
        "id": "R0-zzpA8LRdZ",
        "colab_type": "text"
      },
      "cell_type": "markdown",
      "source": [
        "### Transpostion and resizing"
      ]
    },
    {
      "metadata": {
        "id": "wjdUTSPuDGMG",
        "colab_type": "code",
        "colab": {
          "base_uri": "https://localhost:8080/",
          "height": 178
        },
        "outputId": "eaac69a4-58a6-4247-dc4b-e2117f33c631"
      },
      "cell_type": "code",
      "source": [
        "x.t_()\n",
        "print(x, x.size())\n",
        "\n",
        "# resize tensors\n",
        "x = x.view(6, -1)\n",
        "print(x, x.size())"
      ],
      "execution_count": 33,
      "outputs": [
        {
          "output_type": "stream",
          "text": [
            "tensor([[0.0558, 0.6048, 0.9555, 0.7209],\n",
            "        [0.5438, 0.8838, 0.5168, 0.8886],\n",
            "        [0.3104, 0.5543, 0.7937, 0.2773]]) torch.Size([3, 4])\n",
            "tensor([[0.0558, 0.6048],\n",
            "        [0.9555, 0.7209],\n",
            "        [0.5438, 0.8838],\n",
            "        [0.5168, 0.8886],\n",
            "        [0.3104, 0.5543],\n",
            "        [0.7937, 0.2773]]) torch.Size([6, 2])\n"
          ],
          "name": "stdout"
        }
      ]
    },
    {
      "metadata": {
        "id": "dY3Iw0YAKhB8",
        "colab_type": "text"
      },
      "cell_type": "markdown",
      "source": [
        "## Numpy Bridge"
      ]
    },
    {
      "metadata": {
        "id": "vNJOLXndKZFA",
        "colab_type": "code",
        "colab": {
          "base_uri": "https://localhost:8080/",
          "height": 88
        },
        "outputId": "12d0f866-8f69-4b8a-f6cf-d21f6b68038a"
      },
      "cell_type": "code",
      "source": [
        "import numpy as np\n",
        "\n",
        "np_array = np.ones(5)\n",
        "\n",
        "tensor = torch.ones(5)\n",
        "\n",
        "tensor_to_np_array = tensor.numpy()\n",
        "\n",
        "np_array_to_tensor = torch.from_numpy(np_array)\n",
        "\n",
        "print(np_array, tensor, tensor_to_np_array, np_array_to_tensor, sep = '\\n')"
      ],
      "execution_count": 38,
      "outputs": [
        {
          "output_type": "stream",
          "text": [
            "[1. 1. 1. 1. 1.]\n",
            "tensor([1., 1., 1., 1., 1.])\n",
            "[1. 1. 1. 1. 1.]\n",
            "tensor([1., 1., 1., 1., 1.], dtype=torch.float64)\n"
          ],
          "name": "stdout"
        }
      ]
    },
    {
      "metadata": {
        "id": "ODyt2j7ILkgM",
        "colab_type": "text"
      },
      "cell_type": "markdown",
      "source": [
        "All the Tensors on the CPU except a CharTensor support converting to NumPy and back."
      ]
    },
    {
      "metadata": {
        "id": "ignRUwZIMJLI",
        "colab_type": "text"
      },
      "cell_type": "markdown",
      "source": [
        "## Cuda Tensors"
      ]
    },
    {
      "metadata": {
        "id": "MxxyHa-QLlfg",
        "colab_type": "code",
        "colab": {
          "base_uri": "https://localhost:8080/",
          "height": 231
        },
        "outputId": "9a20deaa-291a-4c5d-a591-bcab0766a8aa"
      },
      "cell_type": "code",
      "source": [
        "# Let us run this cell only if CUDA support is available \n",
        "# We will use `torch.device()` to move tensors in and out of GPU \n",
        "if torch.cuda.is_available():\n",
        "  device = torch.device('cuda') # a CUDA device object\n",
        "  y = torch.zeros_like(x, device=device) # directly create a tensor on GPU\n",
        "  x = x.to(device) # move tensor 'x' to GPU\n",
        "  z = x+y # perform tensor addition in the GPU\n",
        "  print(z) # print tensor from the GPU\n",
        "  print(z.to(\"cpu\", dtype=torch.double)) # move tensor to CPU and print"
      ],
      "execution_count": 40,
      "outputs": [
        {
          "output_type": "stream",
          "text": [
            "tensor([[0.0558, 0.6048],\n",
            "        [0.9555, 0.7209],\n",
            "        [0.5438, 0.8838],\n",
            "        [0.5168, 0.8886],\n",
            "        [0.3104, 0.5543],\n",
            "        [0.7937, 0.2773]], device='cuda:0')\n",
            "tensor([[0.0558, 0.6048],\n",
            "        [0.9555, 0.7209],\n",
            "        [0.5438, 0.8838],\n",
            "        [0.5168, 0.8886],\n",
            "        [0.3104, 0.5543],\n",
            "        [0.7937, 0.2773]], dtype=torch.float64)\n"
          ],
          "name": "stdout"
        }
      ]
    },
    {
      "metadata": {
        "id": "j7whpvgHQ0cN",
        "colab_type": "text"
      },
      "cell_type": "markdown",
      "source": [
        "# Autograd: Automatic Differentiation"
      ]
    }
  ]
}