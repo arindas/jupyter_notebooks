{
  "nbformat": 4,
  "nbformat_minor": 0,
  "metadata": {
    "colab": {
      "name": "pytorch_warmup.ipynb",
      "version": "0.3.2",
      "provenance": [],
      "collapsed_sections": [
        "X2Boqzw84_2b"
      ],
      "include_colab_link": true
    },
    "kernelspec": {
      "name": "python3",
      "display_name": "Python 3"
    },
    "accelerator": "GPU"
  },
  "cells": [
    {
      "cell_type": "markdown",
      "metadata": {
        "id": "view-in-github",
        "colab_type": "text"
      },
      "source": [
        "<a href=\"https://colab.research.google.com/github/arindas/jupyter_notebooks/blob/master/pytorch_warmup.ipynb\" target=\"_parent\"><img src=\"https://colab.research.google.com/assets/colab-badge.svg\" alt=\"Open In Colab\"/></a>"
      ]
    },
    {
      "metadata": {
        "id": "X2Boqzw84_2b",
        "colab_type": "text"
      },
      "cell_type": "markdown",
      "source": [
        "## Pytorch Installation:"
      ]
    },
    {
      "metadata": {
        "id": "lmTnB9NE23QK",
        "colab_type": "code",
        "colab": {
          "base_uri": "https://localhost:8080/",
          "height": 55
        },
        "outputId": "7182e16b-d16b-48e5-fb5d-ae46208096aa"
      },
      "cell_type": "code",
      "source": [
        "# http://pytorch.org/\n",
        "from os.path import exists\n",
        "from wheel.pep425tags import get_abbr_impl, get_impl_ver, get_abi_tag\n",
        "platform = '{}{}-{}'.format(get_abbr_impl(), get_impl_ver(), get_abi_tag())\n",
        "cuda_output = !ldconfig -p|grep cudart.so|sed -e 's/.*\\.\\([0-9]*\\)\\.\\([0-9]*\\)$/cu\\1\\2/'\n",
        "accelerator = cuda_output[0] if exists('/dev/nvidia0') else 'cpu'\n",
        "\n",
        "!pip install -q http://download.pytorch.org/whl/{accelerator}/torch-0.4.1-{platform}-linux_x86_64.whl torchvision\n",
        "import torch"
      ],
      "execution_count": 2,
      "outputs": [
        {
          "output_type": "stream",
          "text": [
            "tcmalloc: large alloc 1073750016 bytes == 0x57c52000 @  0x7f6a393ed2a4 0x591a07 0x5b5d56 0x502e9a 0x506859 0x502209 0x502f3d 0x506859 0x504c28 0x502540 0x502f3d 0x506859 0x504c28 0x502540 0x502f3d 0x506859 0x504c28 0x502540 0x502f3d 0x507641 0x502209 0x502f3d 0x506859 0x504c28 0x502540 0x502f3d 0x507641 0x504c28 0x502540 0x502f3d 0x507641\n"
          ],
          "name": "stdout"
        }
      ]
    },
    {
      "metadata": {
        "id": "O2XOyHlh4DU8",
        "colab_type": "text"
      },
      "cell_type": "markdown",
      "source": [
        "## Some code snippets demonstrating Pytorch tensors:"
      ]
    },
    {
      "metadata": {
        "id": "TB54JRpR4UPo",
        "colab_type": "code",
        "colab": {
          "base_uri": "https://localhost:8080/",
          "height": 71
        },
        "outputId": "c04444ba-5a35-4cef-e601-6afdb0ebade9"
      },
      "cell_type": "code",
      "source": [
        "dims = (3, 4)\n",
        "empty_tensor = torch.empty(*dims)\n",
        "print(empty_tensor)"
      ],
      "execution_count": 3,
      "outputs": [
        {
          "output_type": "stream",
          "text": [
            "tensor([[1.0035e-35, 0.0000e+00, 1.4013e-44, 0.0000e+00],\n",
            "        [       nan, 0.0000e+00, 3.0881e+29, 6.3828e+28],\n",
            "        [3.6386e-41, 0.0000e+00, 0.0000e+00, 0.0000e+00]])\n"
          ],
          "name": "stdout"
        }
      ]
    },
    {
      "metadata": {
        "id": "CMGo861k4qAK",
        "colab_type": "code",
        "colab": {
          "base_uri": "https://localhost:8080/",
          "height": 71
        },
        "outputId": "d5f324c9-b88e-41cf-9df6-23716778b98a"
      },
      "cell_type": "code",
      "source": [
        "rand_tensor = torch.rand(*dims)\n",
        "print(rand_tensor)"
      ],
      "execution_count": 5,
      "outputs": [
        {
          "output_type": "stream",
          "text": [
            "tensor([[0.1643, 0.5821, 0.2303, 0.2003],\n",
            "        [0.8647, 0.0646, 0.4198, 0.2664],\n",
            "        [0.3401, 0.4006, 0.4423, 0.7764]])\n"
          ],
          "name": "stdout"
        }
      ]
    },
    {
      "metadata": {
        "id": "ldvEzbhZ5KVY",
        "colab_type": "code",
        "colab": {
          "base_uri": "https://localhost:8080/",
          "height": 124
        },
        "outputId": "8400330e-4353-475d-dcb2-aa8cc09ef16a"
      },
      "cell_type": "code",
      "source": [
        "zero_tensor = torch.zeros(*dims)\n",
        "print(zero_tensor)\n",
        "\n",
        "unit_tensor = torch.ones(*dims)\n",
        "print(unit_tensor)"
      ],
      "execution_count": 7,
      "outputs": [
        {
          "output_type": "stream",
          "text": [
            "tensor([[0., 0., 0., 0.],\n",
            "        [0., 0., 0., 0.],\n",
            "        [0., 0., 0., 0.]])\n",
            "tensor([[1., 1., 1., 1.],\n",
            "        [1., 1., 1., 1.],\n",
            "        [1., 1., 1., 1.]])\n"
          ],
          "name": "stdout"
        }
      ]
    },
    {
      "metadata": {
        "id": "ncsoGDSQ5f61",
        "colab_type": "code",
        "colab": {
          "base_uri": "https://localhost:8080/",
          "height": 142
        },
        "outputId": "f515ec04-6157-4551-8ede-da1729a6c541"
      },
      "cell_type": "code",
      "source": [
        "data  = [[1, 0], [0, 1]]\n",
        "data_tensor = torch.tensor(data)\n",
        "print(data_tensor)\n",
        "\n",
        "new_tensor = data_tensor.new_ones(*dims, dtype=torch.double)\n",
        "print(new_tensor)\n",
        "\n",
        "rand_data_tensor = torch.randn_like(data_tensor, dtype=torch.float)\n",
        "print(rand_data_tensor)"
      ],
      "execution_count": 16,
      "outputs": [
        {
          "output_type": "stream",
          "text": [
            "tensor([[1, 0],\n",
            "        [0, 1]])\n",
            "tensor([[1., 1., 1., 1.],\n",
            "        [1., 1., 1., 1.],\n",
            "        [1., 1., 1., 1.]], dtype=torch.float64)\n",
            "tensor([[-0.8699,  0.3322],\n",
            "        [ 2.9572, -0.1629]])\n"
          ],
          "name": "stdout"
        }
      ]
    }
  ]
}